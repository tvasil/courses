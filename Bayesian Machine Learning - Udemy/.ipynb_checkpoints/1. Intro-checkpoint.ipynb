{
 "cells": [
  {
   "cell_type": "markdown",
   "metadata": {},
   "source": [
    "## What is Bayesian Machine Learning?\n",
    "\n",
    "### Intro\n",
    "- Bayesian Machine Learning is not just Bayes' Rule. \n",
    "- Statisticians and CompSci people might actually have different views on what Bayesian Learning is\n",
    "- There are many faces of this topic\n",
    "\n",
    "\n",
    "\n",
    "### e.g. Modeling the height of all students in a class as a Gaussian\n",
    "\n",
    "#### The Frequentist Approach\n",
    "\n",
    "1. Collect the data (measure the height of all students)\n",
    "2. Write down likelihood \n",
    "3. Maximize likelihood with respect to parameters\n",
    "\n",
    "#### The Bayesian Approach\n",
    "\"Everything is a random variable\"\n",
    "- The mean and variance are also random variables, so we need to find their probability distributions\n",
    "- Instead of finding a number, we are looking for a probability distribution\n",
    "\n"
   ]
  },
  {
   "cell_type": "markdown",
   "metadata": {},
   "source": [
    "### Sampling\n",
    "\n",
    "If you go the statistics route, you will spend a lot of time on sampling methods:\n",
    "- [Markov Chain Monte Carlo](https://en.wikipedia.org/wiki/Markov_chain_Monte_Carlo)\n",
    "- Gibbs\n",
    "- Importance sampling\n",
    "\n",
    "=> Main idea: numerical approximation of an integral\n",
    "\n",
    "In Deep Learning, the main skill we need from calculus is differentiation\n",
    "\n",
    "In Bayesian Learning, the main skill we need from calculus is integration!"
   ]
  },
  {
   "cell_type": "markdown",
   "metadata": {},
   "source": [
    "### Machine Learning Models\n",
    "\n",
    "If you go the machine learning route, you will look at \"Bayesian\" predictive models\n",
    "\n",
    "e.g. linear regression: y = w^T *x\n",
    "\n",
    "where _w_ is a vector\n",
    "\n",
    "#### Machine Learning Models (Bayesian)\n",
    "- \"Everything is random\"\n",
    "\n",
    "So in a Bayesian linear regression, we are not interested in finding the vector _w_, but the _distribution of w_, where X, Y is our training data: \n",
    "\n",
    "p(w| X, Y)\n",
    "\n",
    "The same concept can be applied to many other macine learning models, such as Neural Networks, Gaussian Mixture Models, PCA and Matrix Factorization. \n",
    "\n",
    "### Bayesian Networks\n",
    "\n",
    "- The previous models were specific models, while Bayes nets are a general model\n",
    "- You can model specific dependencies based on your understanding of the system\n",
    "\n",
    "**Example: I want to predict whether or not a student will pass my exam.** \n",
    "\n",
    "Inputs:\n",
    "- Hours studying\n",
    "- hours video games\n",
    "- hours sleeping"
   ]
  },
  {
   "cell_type": "markdown",
   "metadata": {},
   "source": [
    "![non_bayesian](img/neural_net_not_bayesian.png)\n",
    "\n",
    "![bayesian](img/neural_net_bayesian.png)"
   ]
  },
  {
   "cell_type": "markdown",
   "metadata": {},
   "source": [
    "In the case of a Bayesian Net, we will make prior assumptions about how the various inputs interact and affect each other, whereas in the traditional neural network, we let the NN decide how to weight the relationships between the inputs. "
   ]
  },
  {
   "cell_type": "code",
   "execution_count": null,
   "metadata": {},
   "outputs": [],
   "source": []
  }
 ],
 "metadata": {
  "kernelspec": {
   "display_name": "Python 3",
   "language": "python",
   "name": "python3"
  },
  "language_info": {
   "codemirror_mode": {
    "name": "ipython",
    "version": 3
   },
   "file_extension": ".py",
   "mimetype": "text/x-python",
   "name": "python",
   "nbconvert_exporter": "python",
   "pygments_lexer": "ipython3",
   "version": "3.6.6"
  }
 },
 "nbformat": 4,
 "nbformat_minor": 2
}
