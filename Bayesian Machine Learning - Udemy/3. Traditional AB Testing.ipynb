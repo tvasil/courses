{
 "cells": [
  {
   "cell_type": "markdown",
   "metadata": {},
   "source": [
    "## Setup\n",
    "\n",
    "1. Compare the heights of men and women\n",
    "2. Medicine effectiveness (placebo vs treatment)"
   ]
  },
  {
   "cell_type": "markdown",
   "metadata": {},
   "source": [
    "### A/B testing recipe\n",
    "\n",
    "_Comparing heights of men and women_\n",
    "\n",
    "1. We assume the variable is normally distributed (Gaussian)\n",
    "2. We create a \"test statistic\" (called \"t\")\n",
    "\n",
    "Where `t = (X_1 - X_2) / pooled standard deviation`\n",
    "\n",
    "3. ...it can be shown that the t-statistic is t-distributed\n",
    "\n",
    "What is the t-distribution?\n",
    "- it looks like the Gaussian but with \"fatter tails\"\n",
    "- The PDF formula is very complicated; it uses _nu_, which is the degrees of freedom\n",
    "\n",
    "\n",
    "4. We want to find the area under the curve for the t-distribution, for the values we're interested in. \n",
    "\n",
    "--> use `scipy.stats.t.cdf`"
   ]
  },
  {
   "cell_type": "markdown",
   "metadata": {},
   "source": [
    "### P-values\n",
    "\n",
    "We are looking for a small number, which is supposed to be less than the significance level alpha (the p-value)\n",
    "\n",
    "- much controversy! \n",
    "\n",
    "**Wikipedia**: \"The probability of obtaining a result equal to or 'more extreme' than what was actually observed, when the null hypothesis is true.\"\n",
    "\n",
    "- if p-value < alpha, we say that the difference is statistically significant\n",
    "- we \"reject the null hypothesis\"\n",
    "- typically use 5% significance level (alpha)"
   ]
  },
  {
   "cell_type": "markdown",
   "metadata": {},
   "source": [
    "### Testing characteristics\n",
    "\n",
    "![t-stat](img/t-statistics.png)\n",
    "\n",
    "- We already know that if mean(X1) >> mean(X2) or vice versa, then `t` will be larger (the larger the difference, the more likely the mean difference is statistically significant)\n",
    "- t ∝ sqrt(N)/s_p\n",
    "    - This means that the bigger N, the bigger t will be (so smaller p-value)\n",
    "    - i.e. the more data the collect, the more likely we will reach statistical significance\n",
    "- If the variance of the two groups is large, it will be harder to tell the difference (smaller t and bigger p-value)\n",
    "     - If the distributions hardly overlap, it's easier to show a statistically significance difference\n",
    "     \n",
    "     \n",
    "**what if the variance of the two groups is not the same?**\n",
    "\n",
    "==> use `Welsch's t-test`\n",
    "\n",
    "**What if data is not even Gaussian?**\n",
    "\n",
    "==> we use non-parametric tests (also called distribution-free tests\"), such as: \n",
    "- Kolmogorov-Smirnov test\n",
    "- [Kruskal-Wallis test](https://docs.scipy.org/doc/scipy/reference/generated/scipy.stats.kruskal.html)\n",
    "- Mann-Whitney U test\n",
    "\n",
    "(these are also available through `scipy`)\n",
    "\n",
    "- fewer assumptions -> less power -> need more extreme differences to get statitsically significant p-value"
   ]
  },
  {
   "cell_type": "markdown",
   "metadata": {},
   "source": [
    "### Example 1: men/women's height"
   ]
  },
  {
   "cell_type": "code",
   "execution_count": 1,
   "metadata": {},
   "outputs": [],
   "source": [
    "import numpy as np\n",
    "from scipy import stats"
   ]
  },
  {
   "cell_type": "code",
   "execution_count": 16,
   "metadata": {},
   "outputs": [
    {
     "name": "stdout",
     "output_type": "stream",
     "text": [
      "t:\t 3.137665340222859 p:\t 0.005690149774830289\n"
     ]
    }
   ],
   "source": [
    "N = 10\n",
    "a = np.random.randn(N) + 2 # mean 2\n",
    "b = np.random.randn(N)  # mean 0\n",
    "var_a = a.var(ddof = 1)  # numpy does the maximum likelihood estimate of the variance, but we want the unbiased estimate\n",
    "var_b = b.var(ddof = 1)\n",
    "s = np.sqrt( ( var_a + var_b ) / 2 )\n",
    "t = (a.mean() - b.mean()) / (s * np.sqrt(2.0/N))\n",
    "df = 2*N - 2 # degrees of freedom\n",
    "p = 1 - stats.t.cdf(t, df = df)\n",
    "print(\"t:\\t\", t, \"p:\\t\", 2*p)"
   ]
  },
  {
   "cell_type": "markdown",
   "metadata": {},
   "source": [
    "Compare with the scipy in-built function:"
   ]
  },
  {
   "cell_type": "code",
   "execution_count": 17,
   "metadata": {},
   "outputs": [
    {
     "name": "stdout",
     "output_type": "stream",
     "text": [
      "t2:\t 3.1376653402228594 p2:\t 0.005690149774830221\n"
     ]
    }
   ],
   "source": [
    "t2, p2 = stats.ttest_ind(a, b)\n",
    "print(\"t2:\\t\", t2, \"p2:\\t\", p2) #it's already multiplied by scipy"
   ]
  },
  {
   "cell_type": "markdown",
   "metadata": {},
   "source": [
    "### Exercise 1: force the t-test on click-through data (WRONG)\n",
    "\n",
    "- Technically, **we shouldn't use the t-test for proportions**, but let's try, just for the sake of the example\n",
    "- We should check how many distinct advertisements there are, to decide whether or not to use the Bonferroni correction"
   ]
  },
  {
   "cell_type": "code",
   "execution_count": 18,
   "metadata": {},
   "outputs": [],
   "source": [
    "import pandas as pd"
   ]
  },
  {
   "cell_type": "code",
   "execution_count": 19,
   "metadata": {},
   "outputs": [],
   "source": [
    "df = pd.read_csv('advertisement_clicks.csv')"
   ]
  },
  {
   "cell_type": "code",
   "execution_count": 21,
   "metadata": {},
   "outputs": [
    {
     "data": {
      "text/html": [
       "<div>\n",
       "<style scoped>\n",
       "    .dataframe tbody tr th:only-of-type {\n",
       "        vertical-align: middle;\n",
       "    }\n",
       "\n",
       "    .dataframe tbody tr th {\n",
       "        vertical-align: top;\n",
       "    }\n",
       "\n",
       "    .dataframe thead th {\n",
       "        text-align: right;\n",
       "    }\n",
       "</style>\n",
       "<table border=\"1\" class=\"dataframe\">\n",
       "  <thead>\n",
       "    <tr style=\"text-align: right;\">\n",
       "      <th></th>\n",
       "      <th>advertisement_id</th>\n",
       "      <th>action</th>\n",
       "    </tr>\n",
       "  </thead>\n",
       "  <tbody>\n",
       "    <tr>\n",
       "      <th>0</th>\n",
       "      <td>B</td>\n",
       "      <td>1</td>\n",
       "    </tr>\n",
       "    <tr>\n",
       "      <th>1</th>\n",
       "      <td>B</td>\n",
       "      <td>1</td>\n",
       "    </tr>\n",
       "    <tr>\n",
       "      <th>2</th>\n",
       "      <td>A</td>\n",
       "      <td>0</td>\n",
       "    </tr>\n",
       "    <tr>\n",
       "      <th>3</th>\n",
       "      <td>B</td>\n",
       "      <td>0</td>\n",
       "    </tr>\n",
       "    <tr>\n",
       "      <th>4</th>\n",
       "      <td>A</td>\n",
       "      <td>1</td>\n",
       "    </tr>\n",
       "  </tbody>\n",
       "</table>\n",
       "</div>"
      ],
      "text/plain": [
       "  advertisement_id  action\n",
       "0                B       1\n",
       "1                B       1\n",
       "2                A       0\n",
       "3                B       0\n",
       "4                A       1"
      ]
     },
     "execution_count": 21,
     "metadata": {},
     "output_type": "execute_result"
    }
   ],
   "source": [
    "df.head()"
   ]
  },
  {
   "cell_type": "code",
   "execution_count": 24,
   "metadata": {},
   "outputs": [
    {
     "data": {
      "text/plain": [
       "2"
      ]
     },
     "execution_count": 24,
     "metadata": {},
     "output_type": "execute_result"
    }
   ],
   "source": [
    "df.advertisement_id.nunique() # just 2, so it's ok"
   ]
  },
  {
   "cell_type": "code",
   "execution_count": 28,
   "metadata": {},
   "outputs": [],
   "source": [
    "A = df[df.advertisement_id == 'A'].action\n",
    "B = df[df.advertisement_id == 'B'].action"
   ]
  },
  {
   "cell_type": "code",
   "execution_count": 30,
   "metadata": {},
   "outputs": [
    {
     "name": "stdout",
     "output_type": "stream",
     "text": [
      "t:\t -3.2211732138019786 p:\t 0.0012971905467125246\n"
     ]
    }
   ],
   "source": [
    "t, p = stats.ttest_ind(A, B)\n",
    "print(\"t:\\t\", t, \"p:\\t\", p)"
   ]
  },
  {
   "cell_type": "markdown",
   "metadata": {},
   "source": [
    "### A/B testing of proportions with the chi-square test\n",
    "\n",
    "- This works for click-through rates (not Gaussian but Bernoulli distribution!)\n",
    "- Works for any categorical variables where we count things\n",
    "\n",
    "**Example of contingency table**:\n",
    "\n",
    "![cont-table](img/ctr_cont_table.png)\n",
    "\n",
    "1. Once we have this table, we calculate the chi^2 test statistic\n",
    "     - values are always positive\n",
    "     - its main parameter are the degrees of freedom\n",
    "     - Like t distribution, also has location/scale, available in scipy (but not listed in Wikipedia)\n",
    "     \n",
    "The formula is:\n",
    "![chi-sq](img/chi_square_formula.png)\n",
    "\n",
    "- where `i` is every cell of the table\n",
    "\n",
    "This is what the chi-square distribution looks like for different degrees of freedom: \n",
    "\n",
    "![chi-dist](img/chi_sq_dist.jpg)"
   ]
  },
  {
   "cell_type": "markdown",
   "metadata": {},
   "source": [
    "There are other tests you can do to get the same kind of answer. \n",
    "\n",
    "For example, in `scipy`, the chi-square test automatically makes the Yates correction. There also exists Fisher's Exact Test (good when N is small)"
   ]
  },
  {
   "cell_type": "markdown",
   "metadata": {},
   "source": [
    "### Example 2: CTR with chi-square test"
   ]
  },
  {
   "cell_type": "code",
   "execution_count": 75,
   "metadata": {},
   "outputs": [],
   "source": [
    "import matplotlib.pyplot as plt\n",
    "from scipy.stats import chi2\n",
    "\n",
    "%matplotlib inline"
   ]
  },
  {
   "cell_type": "code",
   "execution_count": 37,
   "metadata": {},
   "outputs": [],
   "source": [
    "# emulate data collection process\n",
    "\n",
    "class DataGenerator:\n",
    "    def __init__(self, p1, p2):\n",
    "        self.p1 = p1\n",
    "        self.p2 = p2\n",
    "    \n",
    "    def next(self):\n",
    "        click1 = 1 if (np.random.random() < self.p1) else 0\n",
    "        click2 = 1 if (np.random.random() < self.p2) else 0\n",
    "        return click1, click2\n",
    "    \n",
    "def get_p_value(T):\n",
    "    det = T[0,0]*T[1,1] - T[0,1]*T[1,0] # determinant of a matrix\n",
    "    c2 = float(det) / T[0].sum() * det / T[1].sum() * T.sum() / T[:,0].sum() / T[:,1].sum()\n",
    "    p = 1 - chi2.cdf(x = c2, df = 1)\n",
    "    return p\n",
    "\n",
    "def run_experiment(p1, p2, N):\n",
    "    data = DataGenerator(p1, p2) # create an instance of the data generator class\n",
    "    p_values = np.empty(N)\n",
    "    T = np.zeros((2,2)).astype(np.float32)\n",
    "    for i in range(N):\n",
    "        c1, c2 = data.next()\n",
    "        T[0, c1] += 1\n",
    "        T[1, c2] += 1\n",
    "        if i < 10: \n",
    "            p_values[i] = None # to avoid the denominator being 0\n",
    "        else:\n",
    "            p_values[i] = get_p_value(T)\n",
    "    plt.plot(p_values)\n",
    "    plt.plot(np.ones(N)*0.05)\n",
    "    plt.show()"
   ]
  },
  {
   "cell_type": "code",
   "execution_count": 40,
   "metadata": {},
   "outputs": [
    {
     "data": {
      "image/png": "[encoded data removed]",
      "text/plain": [
       "<Figure size 432x288 with 1 Axes>"
      ]
     },
     "metadata": {
      "needs_background": "light"
     },
     "output_type": "display_data"
    }
   ],
   "source": [
    "run_experiment(0.1, 0.11, 20000)"
   ]
  },
  {
   "cell_type": "markdown",
   "metadata": {},
   "source": [
    "Every time we run it, we get a different result. The p-value is problematic, as it goes below and above alpha regardless as N increases. "
   ]
  },
  {
   "cell_type": "code",
   "execution_count": 41,
   "metadata": {},
   "outputs": [
    {
     "data": {
      "image/png": "[encoded data removed]",
      "text/plain": [
       "<Figure size 432x288 with 1 Axes>"
      ]
     },
     "metadata": {
      "needs_background": "light"
     },
     "output_type": "display_data"
    }
   ],
   "source": [
    "run_experiment(0.1, 0.11, 20000)"
   ]
  },
  {
   "cell_type": "code",
   "execution_count": 43,
   "metadata": {},
   "outputs": [
    {
     "data": {
      "image/png": "[encoded data removed]",
      "text/plain": [
       "<Figure size 432x288 with 1 Axes>"
      ]
     },
     "metadata": {
      "needs_background": "light"
     },
     "output_type": "display_data"
    }
   ],
   "source": [
    "run_experiment(0.1, 0.11, 20000)"
   ]
  },
  {
   "cell_type": "markdown",
   "metadata": {},
   "source": [
    "### Exercise 2: chi-square test"
   ]
  },
  {
   "cell_type": "code",
   "execution_count": 57,
   "metadata": {},
   "outputs": [],
   "source": [
    "from scipy.stats import chi2_contingency"
   ]
  },
  {
   "cell_type": "code",
   "execution_count": 63,
   "metadata": {},
   "outputs": [
    {
     "data": {
      "text/html": [
       "<div>\n",
       "<style scoped>\n",
       "    .dataframe tbody tr th:only-of-type {\n",
       "        vertical-align: middle;\n",
       "    }\n",
       "\n",
       "    .dataframe tbody tr th {\n",
       "        vertical-align: top;\n",
       "    }\n",
       "\n",
       "    .dataframe thead th {\n",
       "        text-align: right;\n",
       "    }\n",
       "</style>\n",
       "<table border=\"1\" class=\"dataframe\">\n",
       "  <thead>\n",
       "    <tr style=\"text-align: right;\">\n",
       "      <th>action</th>\n",
       "      <th>0</th>\n",
       "      <th>1</th>\n",
       "    </tr>\n",
       "    <tr>\n",
       "      <th>advertisement_id</th>\n",
       "      <th></th>\n",
       "      <th></th>\n",
       "    </tr>\n",
       "  </thead>\n",
       "  <tbody>\n",
       "    <tr>\n",
       "      <th>A</th>\n",
       "      <td>696</td>\n",
       "      <td>304</td>\n",
       "    </tr>\n",
       "    <tr>\n",
       "      <th>B</th>\n",
       "      <td>628</td>\n",
       "      <td>372</td>\n",
       "    </tr>\n",
       "  </tbody>\n",
       "</table>\n",
       "</div>"
      ],
      "text/plain": [
       "action              0    1\n",
       "advertisement_id          \n",
       "A                 696  304\n",
       "B                 628  372"
      ]
     },
     "execution_count": 63,
     "metadata": {},
     "output_type": "execute_result"
    }
   ],
   "source": [
    "CT = pd.crosstab(df.advertisement_id, df.action)\n",
    "CT"
   ]
  },
  {
   "cell_type": "code",
   "execution_count": 72,
   "metadata": {},
   "outputs": [
    {
     "data": {
      "text/plain": [
       "(10.332683816299898, 0.0013069502732125406)"
      ]
     },
     "execution_count": 72,
     "metadata": {},
     "output_type": "execute_result"
    }
   ],
   "source": [
    "chi, p, dof, ex = chi2_contingency(CT, correction=False)\n",
    "chi, p "
   ]
  },
  {
   "cell_type": "markdown",
   "metadata": {},
   "source": [
    "Try it with the custom function we built above: "
   ]
  },
  {
   "cell_type": "code",
   "execution_count": 77,
   "metadata": {},
   "outputs": [
    {
     "data": {
      "text/plain": [
       "0.0013069502732125926"
      ]
     },
     "execution_count": 77,
     "metadata": {},
     "output_type": "execute_result"
    }
   ],
   "source": [
    "get_p_value(np.array(CT)) # Same result as above"
   ]
  },
  {
   "cell_type": "markdown",
   "metadata": {},
   "source": [
    "### Bonferroni Correction\n",
    "\n",
    "- You can get a significant p-value by chance\n",
    "- If you run the same experiment twice, the chanc eof getting a significant p-value increases!!!\n",
    "- It's possible to run many experiments and then work backwards to pick something that had a significant p-value\n",
    "- This is especially true when we have multiple variants (we're comparing multiple groups, like in ANOVA)\n",
    "- In this case, we use the **Bonferroni correction** to be stricter\n",
    "\n",
    "**Bonferroni correction**: divide the _alpha_/number of groups\n",
    "\n",
    "**Pairwise testing**\n",
    "- compare every group against every other group\n",
    "\n",
    "`a_new = a/ choose(N, 2)`\n",
    "\n",
    "**One-vs-the-rest testing**\n",
    "- sum the counts for the groups that are part of \"the rest\"\n",
    "- so you still have 2x2 tables\n",
    "- N groups, N tests\n",
    "\n",
    "`a_new = a/N`"
   ]
  },
  {
   "cell_type": "markdown",
   "metadata": {},
   "source": [
    "### Statistical power\n",
    "\n",
    "Power can be related to inbalanced classes conversation. In that context, power is the sensitivity. \n",
    "\n",
    "**Power** is equal to the probability of rejecting the null hypothesis, given that the alternative hypothesis is true. I.e., the probability of detecting a difference, given that it exists. \n",
    "\n",
    "\n",
    "#### How?\n",
    "\n",
    "Think of it as a binary classification problem;\n",
    "\n",
    "- Prediction = {reject H0, do not reject H0}\n",
    "- and *not* {accept H1, accept H0} (which are more interpretable\n",
    "- these fragile definitions make frequentist testing unapproachable by non-technical people\n",
    "\n",
    "![conf_matrix](img/confusion_matrix.png)\n",
    "\n",
    "**Definition**\n",
    "- high power decreases chances of getting FN (false negatives)\n",
    "- FN = type 2 error\n",
    "- p(FN) = FN rate = _beta_\n",
    "- Power = 1- _beta_\n",
    "- FP = type 1 error\n",
    "\n",
    "It looks like it's easier to stick to the fundamental concepts such as TP, FP, TN, FN\n",
    "\n",
    "#### Quantifying power\n",
    "\n",
    "- \"power analysis\" can be used to determine . number of sample we should collect for an experiment"
   ]
  },
  {
   "cell_type": "markdown",
   "metadata": {},
   "source": [
    "### A/B testing Pitfalls\n",
    "\n",
    "- In our code we saw how the p-value can change as the experiment progresses. \n",
    "- In reality, we shouldn't check the p-value until we reach the right sample size (no \"sneaking\"!)\n",
    "\n",
    "Some weird scenarios in frequentist statistics: \n",
    "\n",
    "- Conversion rate: Landing page B leads to more purchases. Can you stop early and make more $$? Statistics says you can't :P\n",
    "\n",
    "We'll later see how Bayesian methods solve this problem\n",
    "\n",
    "- They typically require less samples to meet some threshold\n",
    "- Can stop an experiment at any time and calculate exact probability from the data collected "
   ]
  },
  {
   "cell_type": "code",
   "execution_count": null,
   "metadata": {},
   "outputs": [],
   "source": []
  }
 ],
 "metadata": {
  "kernelspec": {
   "display_name": "Python 3",
   "language": "python",
   "name": "python3"
  },
  "language_info": {
   "codemirror_mode": {
    "name": "ipython",
    "version": 3
   },
   "file_extension": ".py",
   "mimetype": "text/x-python",
   "name": "python",
   "nbconvert_exporter": "python",
   "pygments_lexer": "ipython3",
   "version": "3.6.6"
  }
 },
 "nbformat": 4,
 "nbformat_minor": 2
}
