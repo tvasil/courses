{
 "cells": [
  {
   "cell_type": "code",
   "execution_count": 13,
   "metadata": {
    "collapsed": true
   },
   "outputs": [],
   "source": [
    "import os"
   ]
  },
  {
   "cell_type": "markdown",
   "metadata": {},
   "source": [
    "# Effective Python\n",
    "\n",
    "# 1. Python thinking\n",
    "\n",
    "- not regimented or  enforced by the compiler, but has emerged over time through experience of the community\n",
    "- prefer to be explicit, choose the simple over the complex and maximize readibility\n",
    "- the best way in Python is the *pythonic* way"
   ]
  },
  {
   "cell_type": "code",
   "execution_count": 1,
   "metadata": {},
   "outputs": [
    {
     "name": "stdout",
     "output_type": "stream",
     "text": [
      "The Zen of Python, by Tim Peters\n",
      "\n",
      "Beautiful is better than ugly.\n",
      "Explicit is better than implicit.\n",
      "Simple is better than complex.\n",
      "Complex is better than complicated.\n",
      "Flat is better than nested.\n",
      "Sparse is better than dense.\n",
      "Readability counts.\n",
      "Special cases aren't special enough to break the rules.\n",
      "Although practicality beats purity.\n",
      "Errors should never pass silently.\n",
      "Unless explicitly silenced.\n",
      "In the face of ambiguity, refuse the temptation to guess.\n",
      "There should be one-- and preferably only one --obvious way to do it.\n",
      "Although that way may not be obvious at first unless you're Dutch.\n",
      "Now is better than never.\n",
      "Although never is often better than *right* now.\n",
      "If the implementation is hard to explain, it's a bad idea.\n",
      "If the implementation is easy to explain, it may be a good idea.\n",
      "Namespaces are one honking great idea -- let's do more of those!\n"
     ]
    }
   ],
   "source": [
    "# To read the Zen of Python\n",
    "import this"
   ]
  },
  {
   "cell_type": "markdown",
   "metadata": {},
   "source": [
    "### 1. Know which version of Python you're using"
   ]
  },
  {
   "cell_type": "code",
   "execution_count": 3,
   "metadata": {},
   "outputs": [
    {
     "name": "stdout",
     "output_type": "stream",
     "text": [
      "Python 3.6.6 :: Anaconda, Inc.\r\n"
     ]
    }
   ],
   "source": [
    "!python --version"
   ]
  },
  {
   "cell_type": "code",
   "execution_count": 4,
   "metadata": {},
   "outputs": [
    {
     "name": "stdout",
     "output_type": "stream",
     "text": [
      "Python 3.6.6 :: Anaconda, Inc.\r\n"
     ]
    }
   ],
   "source": [
    "#or\n",
    "!python3 --version"
   ]
  },
  {
   "cell_type": "code",
   "execution_count": 5,
   "metadata": {},
   "outputs": [
    {
     "name": "stdout",
     "output_type": "stream",
     "text": [
      "sys.version_info(major=3, minor=6, micro=6, releaselevel='final', serial=0)\n",
      "3.6.6 |Anaconda, Inc.| (default, Jun 28 2018, 11:07:29) \n",
      "[GCC 4.2.1 Compatible Clang 4.0.1 (tags/RELEASE_401/final)]\n"
     ]
    }
   ],
   "source": [
    "import sys\n",
    "print(sys.version_info)\n",
    "print(sys.version)"
   ]
  },
  {
   "cell_type": "markdown",
   "metadata": {},
   "source": [
    "### 2. PEP 8 style guide\n",
    "\n",
    "- stands for Python Enhancement Proposal #8\n",
    "- Can be found here: https://www.python.org/dev/peps/pep-0008/\n",
    "\n",
    "\n",
    "**Whitespace:**\n",
    "- use spaces instead of tabs for indentation\n",
    "- use exactly 4 spaces for each level of indenting\n",
    "  - long lines split into multiple should also have 4 spaces before subsequent lines\n",
    "- lines should be 79 characters of less\n",
    "- In a file, functions and classes should be separated by two blank lines\n",
    "- in a class, methods should be separated by one blank line\n",
    "- put one space before and after variable assignment (e.g. a = 8)\n",
    "\n",
    "**Naming:**\n",
    "- functions, variables,and attributes should be `lowercase_underscore` format\n",
    "- [protected instance attributes](https://stackoverflow.com/questions/797771/python-protected-attributes) should be in `_leading_underscore` format\n",
    "- private instance attributes should be in `__double_leading_underscore` format (e.g. passwords, usernames)\n",
    "- Classes and exceptions should be in CapitalizedWord format\n",
    "- Module-level constants should in in ALL_CAPS format\n",
    "- Instance methods in classes should use `self` as the name of the first paramenter\n",
    "- Class methods should use `cls` as the name of the first parameter\n",
    "\n",
    "**Expressions and Statements:**\n",
    "- Don't check for empty values by checking for lnegth (e.g. if len(somelist) == 0). Use `if not somelist` and assume empty values evaluate to `False`\n",
    " - same for non-empty lists (it will be `True`)\n",
    "- Don't do `if/for/while` statements in a single line; spread them out over multiple lines for readibility\n",
    "- all `import` statements at the top of the file\n",
    "- Modules should be imported in alphabetical order\n",
    "\n",
    "\n",
    "**Pylint**: \n",
    "\n",
    "Use pylint to analyze your code for PEP-8 compliance. \n",
    "\n",
    "\n",
    "**To look up later**:\n",
    "[Can we use pylint in Jupyter notebooks?](https://stackoverflow.com/questions/50358327/using-pylint-in-ipython-jupyter-notebook)"
   ]
  },
  {
   "cell_type": "code",
   "execution_count": 6,
   "metadata": {},
   "outputs": [
    {
     "name": "stdout",
     "output_type": "stream",
     "text": [
      "Requirement already satisfied: pylint in /Users/tania/anaconda3/lib/python3.6/site-packages (2.2.2)\n",
      "Requirement already satisfied: astroid>=2.0.0 in /Users/tania/anaconda3/lib/python3.6/site-packages (from pylint) (2.1.0)\n",
      "Requirement already satisfied: isort>=4.2.5 in /Users/tania/anaconda3/lib/python3.6/site-packages (from pylint) (4.3.4)\n",
      "Requirement already satisfied: mccabe in /Users/tania/anaconda3/lib/python3.6/site-packages (from pylint) (0.6.1)\n",
      "Requirement already satisfied: lazy-object-proxy in /Users/tania/anaconda3/lib/python3.6/site-packages (from astroid>=2.0.0->pylint) (1.3.1)\n",
      "Requirement already satisfied: wrapt in /Users/tania/anaconda3/lib/python3.6/site-packages (from astroid>=2.0.0->pylint) (1.10.11)\n",
      "Requirement already satisfied: typed-ast; python_version < \"3.7\" and implementation_name == \"cpython\" in /Users/tania/anaconda3/lib/python3.6/site-packages (from astroid>=2.0.0->pylint) (1.1.0)\n",
      "Requirement already satisfied: six in /Users/tania/anaconda3/lib/python3.6/site-packages (from astroid>=2.0.0->pylint) (1.11.0)\n"
     ]
    }
   ],
   "source": [
    "!pip install pylint"
   ]
  },
  {
   "cell_type": "markdown",
   "metadata": {},
   "source": [
    "### 3. Know the differentces between `bytes, str`, and `unicode`\n",
    "\n",
    "- there are many ways to represent Unicode characters as binary data (raw 8-bit values). Most common encoding is UTF-8.\n",
    "- In Python 3, sequences of characters can be represented as either `str` or `bytes`. Instances of `str` contain Unicode characters\n",
    "- unicode > binary : encode\n",
    "- binary > unicode : decode\n",
    "\n",
    "You need a method that takes a str or bytes nad always returns a str:"
   ]
  },
  {
   "cell_type": "code",
   "execution_count": 7,
   "metadata": {
    "collapsed": true
   },
   "outputs": [],
   "source": [
    "def to_str(bytes_or_str):\n",
    "    if instance(bytes_or_str, bytes):\n",
    "        value = bytes_or_str.decode('utf-8')\n",
    "    else:\n",
    "        value = bytes_or_str\n",
    "    return value # instance of str"
   ]
  },
  {
   "cell_type": "markdown",
   "metadata": {},
   "source": [
    "And the other way around (takes a str or bytes and always returns bytes"
   ]
  },
  {
   "cell_type": "code",
   "execution_count": 8,
   "metadata": {
    "collapsed": true
   },
   "outputs": [],
   "source": [
    "def to_str(bytes_or_str):\n",
    "    if instance(bytes_or_str, str):\n",
    "        value = bytes_or_str.encode('utf-8')\n",
    "    else:\n",
    "        value = bytes_or_str\n",
    "    return value # instance of bytes"
   ]
  },
  {
   "cell_type": "markdown",
   "metadata": {},
   "source": [
    "- `str` and `bytes` are never equivalent in Python3, not even the empty strings, so be deliberate!\n",
    "- A problem exists with the `open` file operation as it defaults to UTF-8 and doens't accept bytes characters:"
   ]
  },
  {
   "cell_type": "code",
   "execution_count": 16,
   "metadata": {},
   "outputs": [
    {
     "ename": "TypeError",
     "evalue": "write() argument must be str, not bytes",
     "output_type": "error",
     "traceback": [
      "\u001b[0;31m---------------------------------------------------------------------------\u001b[0m",
      "\u001b[0;31mTypeError\u001b[0m                                 Traceback (most recent call last)",
      "\u001b[0;32m<ipython-input-16-1e4d0d67c17e>\u001b[0m in \u001b[0;36m<module>\u001b[0;34m\u001b[0m\n\u001b[1;32m      1\u001b[0m \u001b[0;32mwith\u001b[0m \u001b[0mopen\u001b[0m\u001b[0;34m(\u001b[0m\u001b[0;34m'random.bin'\u001b[0m\u001b[0;34m,\u001b[0m \u001b[0;34m'w'\u001b[0m\u001b[0;34m)\u001b[0m \u001b[0;32mas\u001b[0m \u001b[0mf\u001b[0m\u001b[0;34m:\u001b[0m\u001b[0;34m\u001b[0m\u001b[0m\n\u001b[0;32m----> 2\u001b[0;31m     \u001b[0mf\u001b[0m\u001b[0;34m.\u001b[0m\u001b[0mwrite\u001b[0m\u001b[0;34m(\u001b[0m\u001b[0mos\u001b[0m\u001b[0;34m.\u001b[0m\u001b[0murandom\u001b[0m\u001b[0;34m(\u001b[0m\u001b[0;36m10\u001b[0m\u001b[0;34m)\u001b[0m\u001b[0;34m)\u001b[0m\u001b[0;34m\u001b[0m\u001b[0m\n\u001b[0m",
      "\u001b[0;31mTypeError\u001b[0m: write() argument must be str, not bytes"
     ]
    }
   ],
   "source": [
    "with open('random.bin', 'w') as f:\n",
    "    f.write(os.urandom(10))"
   ]
  },
  {
   "cell_type": "code",
   "execution_count": 17,
   "metadata": {
    "collapsed": true
   },
   "outputs": [],
   "source": [
    "#Fix it by saying\n",
    "\n",
    "with open('random.bin', 'wb') as f:\n",
    "    f.write(os.urandom(10))"
   ]
  },
  {
   "cell_type": "markdown",
   "metadata": {},
   "source": [
    "### 4. Write Helper Functions instead of complex expressions\n",
    "\n",
    "- when you want to let's say just filter something and you have to write multiple lines of code, it's best to use functions to capture this\n",
    "- Don't use complicated one-liners that no one can read later!!!\n",
    "\n",
    "Example:"
   ]
  },
  {
   "cell_type": "code",
   "execution_count": 22,
   "metadata": {},
   "outputs": [
    {
     "name": "stdout",
     "output_type": "stream",
     "text": [
      "{'red': ['5'], 'blue': ['0'], 'green': ['']}\n"
     ]
    }
   ],
   "source": [
    "from urllib.parse import parse_qs\n",
    "my_values = parse_qs('red=5&blue=0&green=',\n",
    "                    keep_blank_values=True)\n",
    "print(repr(my_values))"
   ]
  },
  {
   "cell_type": "markdown",
   "metadata": {},
   "source": [
    "Let's say we want to check for the following and get back a number: "
   ]
  },
  {
   "cell_type": "code",
   "execution_count": 27,
   "metadata": {},
   "outputs": [
    {
     "name": "stdout",
     "output_type": "stream",
     "text": [
      "Red\t ['5']\n",
      "Green\t ['']\n",
      "Opacity\t None\n"
     ]
    }
   ],
   "source": [
    "print('Red\\t', my_values.get('red'))\n",
    "print('Green\\t', my_values.get('green'))\n",
    "print('Opacity\\t', my_values.get('opacity'))"
   ]
  },
  {
   "cell_type": "markdown",
   "metadata": {},
   "source": [
    "We can try again with some `or` statements:"
   ]
  },
  {
   "cell_type": "code",
   "execution_count": 32,
   "metadata": {},
   "outputs": [
    {
     "name": "stdout",
     "output_type": "stream",
     "text": [
      "Red\t'5'\n",
      "Green\t0\n",
      "Red\t0\n"
     ]
    }
   ],
   "source": [
    "red = my_values.get('red', [''])[0] or 0\n",
    "green = my_values.get('green', [''])[0] or 0\n",
    "opacity = my_values.get('opacity', [''])[0] or 0\n",
    "print('Red\\t%r' % red)\n",
    "print('Green\\t%r' % green)\n",
    "print('Red\\t%r' % opacity)"
   ]
  },
  {
   "cell_type": "markdown",
   "metadata": {},
   "source": [
    "This also doesn't work exactly, as we want to get back an integer value"
   ]
  },
  {
   "cell_type": "code",
   "execution_count": 35,
   "metadata": {
    "collapsed": true
   },
   "outputs": [],
   "source": [
    "red = int(my_values.get('red', [''])[0] or 0) # no one can read this"
   ]
  },
  {
   "cell_type": "code",
   "execution_count": 33,
   "metadata": {
    "collapsed": true
   },
   "outputs": [],
   "source": [
    "red = my_values.get('red', [''])\n",
    "red = int(red[0]) if red[0] else 0"
   ]
  },
  {
   "cell_type": "markdown",
   "metadata": {},
   "source": [
    "This could work for less complicated situations and if/else conditionals can make things very clear.\n",
    "\n",
    "Best solution: **write a helper function**"
   ]
  },
  {
   "cell_type": "code",
   "execution_count": 36,
   "metadata": {
    "collapsed": true
   },
   "outputs": [],
   "source": [
    "def get_first_int(values, key, default = 0):\n",
    "    found = values.get(key, [''])\n",
    "    if found[0]:\n",
    "        found = int(found[0])\n",
    "    else:\n",
    "        found = default\n",
    "    return found"
   ]
  },
  {
   "cell_type": "code",
   "execution_count": 38,
   "metadata": {},
   "outputs": [
    {
     "data": {
      "text/plain": [
       "0"
      ]
     },
     "execution_count": 38,
     "metadata": {},
     "output_type": "execute_result"
    }
   ],
   "source": [
    "green = get_first_int(my_values, 'green')\n",
    "green"
   ]
  },
  {
   "cell_type": "markdown",
   "metadata": {},
   "source": [
    "\"Don't let Python's pithy syntax for complex expressions get you into a mess like this\""
   ]
  },
  {
   "cell_type": "markdown",
   "metadata": {},
   "source": [
    "### 5. Know how to slice sequences"
   ]
  },
  {
   "cell_type": "markdown",
   "metadata": {},
   "source": [
    "\"Slicing can be extended to any Python calss that implements the `__getitem__` and `__setitem__` special methods\""
   ]
  },
  {
   "cell_type": "code",
   "execution_count": 55,
   "metadata": {
    "collapsed": true
   },
   "outputs": [],
   "source": [
    "a = list('abcdefgh')\n",
    "a"
   ]
  },
  {
   "cell_type": "code",
   "execution_count": 60,
   "metadata": {},
   "outputs": [
    {
     "name": "stdout",
     "output_type": "stream",
     "text": [
      "First four: ['a', 'b', 'c', 'd']\n",
      "Last four: ['e', 'f', 'g', 'h']\n",
      "Middle two: ['d', 'e']\n"
     ]
    }
   ],
   "source": [
    "print('First four:', a[:4]) # you should leave out the 0 to reduce the visual noise\n",
    "print('Last four:', a[-4:]) # leave out the final index because it's redundant\n",
    "print('Middle two:', a[3:-3])"
   ]
  },
  {
   "cell_type": "markdown",
   "metadata": {},
   "source": [
    "*Note*: The result of `somelist[-0:]` will result in a copy of the original list!\n",
    "\n",
    "- The result of slicking a list is a whole new list. Modifying the result of slicing will not affect the original list. \n",
    "- But when used in assignment (e.g. if you say `somelist[1] = 2` then it does modify the original list"
   ]
  },
  {
   "cell_type": "code",
   "execution_count": 66,
   "metadata": {},
   "outputs": [
    {
     "name": "stdout",
     "output_type": "stream",
     "text": [
      "Before:\t ['e', 'f', 'g', 'h']\n",
      "After:\t ['e', 99, 'g', 'h']\n",
      "No change to a:\t ['a', 'b', 'c', 'd', 'e', 'f', 'g', 'h']\n"
     ]
    }
   ],
   "source": [
    "b = a[4:]\n",
    "print(\"Before:\\t\", b)\n",
    "b[1] = 99\n",
    "print(\"After:\\t\", b)\n",
    "print(\"No change to a:\\t\", a)"
   ]
  },
  {
   "cell_type": "markdown",
   "metadata": {},
   "source": [
    "- if you leave out both start and end indexes, you're making a copy of the original"
   ]
  },
  {
   "cell_type": "code",
   "execution_count": 67,
   "metadata": {
    "collapsed": true
   },
   "outputs": [],
   "source": [
    "b = a[:]\n",
    "assert b == a and b is not a"
   ]
  },
  {
   "cell_type": "markdown",
   "metadata": {},
   "source": [
    "Note that this is different to this case, where b IS equal to a (it's not a copy)"
   ]
  },
  {
   "cell_type": "code",
   "execution_count": 68,
   "metadata": {},
   "outputs": [
    {
     "ename": "AssertionError",
     "evalue": "",
     "output_type": "error",
     "traceback": [
      "\u001b[0;31m---------------------------------------------------------------------------\u001b[0m",
      "\u001b[0;31mAssertionError\u001b[0m                            Traceback (most recent call last)",
      "\u001b[0;32m<ipython-input-68-9e599ef9efd2>\u001b[0m in \u001b[0;36m<module>\u001b[0;34m\u001b[0m\n\u001b[1;32m      1\u001b[0m \u001b[0mb\u001b[0m \u001b[0;34m=\u001b[0m \u001b[0ma\u001b[0m\u001b[0;34m\u001b[0m\u001b[0m\n\u001b[0;32m----> 2\u001b[0;31m \u001b[0;32massert\u001b[0m \u001b[0mb\u001b[0m \u001b[0;34m==\u001b[0m \u001b[0ma\u001b[0m \u001b[0;32mand\u001b[0m \u001b[0mb\u001b[0m \u001b[0;32mis\u001b[0m \u001b[0;32mnot\u001b[0m \u001b[0ma\u001b[0m\u001b[0;34m\u001b[0m\u001b[0m\n\u001b[0m",
      "\u001b[0;31mAssertionError\u001b[0m: "
     ]
    }
   ],
   "source": [
    "b = a\n",
    "assert b == a and b is not a"
   ]
  },
  {
   "cell_type": "markdown",
   "metadata": {},
   "source": [
    "### 6. Avoid using `start`, `end` and `stride` in a single slice"
   ]
  },
  {
   "cell_type": "code",
   "execution_count": 69,
   "metadata": {},
   "outputs": [
    {
     "name": "stdout",
     "output_type": "stream",
     "text": [
      "['red', 'yellow', 'blue']\n",
      "['orange', 'green', 'purple']\n"
     ]
    }
   ],
   "source": [
    "a = ['red', 'orange', 'yellow', 'green', 'blue', 'purple']\n",
    "odds = a[::2]\n",
    "evens = a[1::2]\n",
    "print(odds)\n",
    "print(evens)"
   ]
  },
  {
   "cell_type": "markdown",
   "metadata": {},
   "source": [
    "**Issues**\n",
    "\n",
    "1. The stride syntax (the third element) can cause unexpected behaviour that can cause bugs. For example, it doesn't work with Unicode characters encoded as UTF-8 byte strings. "
   ]
  },
  {
   "cell_type": "code",
   "execution_count": 70,
   "metadata": {},
   "outputs": [
    {
     "ename": "UnicodeDecodeError",
     "evalue": "'utf-8' codec can't decode byte 0x93 in position 0: invalid start byte",
     "output_type": "error",
     "traceback": [
      "\u001b[0;31m---------------------------------------------------------------------------\u001b[0m",
      "\u001b[0;31mUnicodeDecodeError\u001b[0m                        Traceback (most recent call last)",
      "\u001b[0;32m<ipython-input-70-69ea9a76e628>\u001b[0m in \u001b[0;36m<module>\u001b[0;34m\u001b[0m\n\u001b[1;32m      2\u001b[0m \u001b[0mx\u001b[0m \u001b[0;34m=\u001b[0m \u001b[0mw\u001b[0m\u001b[0;34m.\u001b[0m\u001b[0mencode\u001b[0m\u001b[0;34m(\u001b[0m\u001b[0;34m'utf-8'\u001b[0m\u001b[0;34m)\u001b[0m\u001b[0;34m\u001b[0m\u001b[0m\n\u001b[1;32m      3\u001b[0m \u001b[0my\u001b[0m \u001b[0;34m=\u001b[0m \u001b[0mx\u001b[0m\u001b[0;34m[\u001b[0m\u001b[0;34m:\u001b[0m\u001b[0;34m:\u001b[0m\u001b[0;34m-\u001b[0m\u001b[0;36m1\u001b[0m\u001b[0;34m]\u001b[0m\u001b[0;34m\u001b[0m\u001b[0m\n\u001b[0;32m----> 4\u001b[0;31m \u001b[0mz\u001b[0m \u001b[0;34m=\u001b[0m \u001b[0my\u001b[0m\u001b[0;34m.\u001b[0m\u001b[0mdecode\u001b[0m\u001b[0;34m(\u001b[0m\u001b[0;34m'utf-8'\u001b[0m\u001b[0;34m)\u001b[0m\u001b[0;34m\u001b[0m\u001b[0m\n\u001b[0m",
      "\u001b[0;31mUnicodeDecodeError\u001b[0m: 'utf-8' codec can't decode byte 0x93 in position 0: invalid start byte"
     ]
    }
   ],
   "source": [
    "w = '北海道'\n",
    "x = w.encode('utf-8')\n",
    "y = x[::-1]\n",
    "z = y.decode('utf-8')"
   ]
  },
  {
   "cell_type": "markdown",
   "metadata": {},
   "source": [
    "2. Negative strides besides -1 are not useful usually. \n",
    "\n",
    "The stride part of the indexing can be confusing, hard to understand later and might cause unexpected behaviours. \n",
    "\n",
    "If you want/have to use stride, avoid using also start and end indexes together. \n",
    "\n",
    "If you need to do both, try first using stride and then slicing. Slicing and then striding will create an extra shallow copy of the data so the first slicing operation must try to reduce the list by as much as possible. \n",
    "\n",
    "**Tip**: If you don't have enough memory, try using the `islice` method from `itertools` ([islice()](https://docs.python.org/3/library/itertools.html#itertools.islice)), [example](https://realpython.com/python-itertools/)"
   ]
  },
  {
   "cell_type": "markdown",
   "metadata": {},
   "source": [
    "### 7. Use list comprehension instead of `map` and `filter`"
   ]
  },
  {
   "cell_type": "markdown",
   "metadata": {},
   "source": [
    "- Unless you're applying an argument with just one function (e.g. `mean`), a list comprehension is clearer to read thant the `map` build-in function. "
   ]
  },
  {
   "cell_type": "code",
   "execution_count": 77,
   "metadata": {},
   "outputs": [
    {
     "name": "stdout",
     "output_type": "stream",
     "text": [
      "[1, 4, 9, 16, 25, 36, 49, 64, 81, 100]\n"
     ]
    }
   ],
   "source": [
    "a = list(range(1,11))\n",
    "squared = [x**2 for x in a]\n",
    "print(squared)"
   ]
  },
  {
   "cell_type": "code",
   "execution_count": 78,
   "metadata": {
    "collapsed": true
   },
   "outputs": [],
   "source": [
    "squares = map(lambda x: x**2, a) # the same as a 'map'"
   ]
  },
  {
   "cell_type": "markdown",
   "metadata": {},
   "source": [
    " List comprehension also allows you to filter out only the items in the original list you are interested in"
   ]
  },
  {
   "cell_type": "code",
   "execution_count": 79,
   "metadata": {},
   "outputs": [
    {
     "name": "stdout",
     "output_type": "stream",
     "text": [
      "[4, 16, 36, 64, 100]\n"
     ]
    }
   ],
   "source": [
    "even_squares = [x**2 for x in a if x %2 == 0]\n",
    "print(even_squares)"
   ]
  },
  {
   "cell_type": "markdown",
   "metadata": {},
   "source": [
    "You can do the same for dictionaries and sets!"
   ]
  },
  {
   "cell_type": "code",
   "execution_count": 82,
   "metadata": {},
   "outputs": [
    {
     "name": "stdout",
     "output_type": "stream",
     "text": [
      "{1: 'ghost', 2: 'habanero', 3: 'cayenne'}\n",
      "{8, 5, 7}\n"
     ]
    }
   ],
   "source": [
    "chile_ranks = {'ghost': 1, 'habanero': 2, 'cayenne': 3}\n",
    "rank_dict = {rank: name for name, rank in chile_ranks.items()} # reverse the keys/values in the original dictionary\n",
    "chile_len_set = {len(name) for name in rank_dict.values()} # get the anme length for each\n",
    "print(rank_dict)\n",
    "print(chile_len_set)"
   ]
  },
  {
   "cell_type": "markdown",
   "metadata": {},
   "source": [
    "### 8. Avoid more than two expressions in List Comprehensions"
   ]
  },
  {
   "cell_type": "markdown",
   "metadata": {},
   "source": [
    "In some cases, you can use two `for` arguments in a list comprehension, such as the case of *simplifying a matrix into a single list*"
   ]
  },
  {
   "cell_type": "code",
   "execution_count": 84,
   "metadata": {},
   "outputs": [
    {
     "name": "stdout",
     "output_type": "stream",
     "text": [
      "[1, 2, 3, 4, 5, 6, 7, 8, 9]\n"
     ]
    }
   ],
   "source": [
    "matrix = [[1,2,3], [4,5,6], [7,8,9]]\n",
    "flat = [x for row in matrix for x in row]\n",
    "print(flat)"
   ]
  },
  {
   "cell_type": "markdown",
   "metadata": {},
   "source": [
    "Others can get really long through that it **NOT GOOD**"
   ]
  },
  {
   "cell_type": "code",
   "execution_count": 85,
   "metadata": {},
   "outputs": [
    {
     "name": "stdout",
     "output_type": "stream",
     "text": [
      "[[1, 4, 9], [16, 25, 36], [49, 64, 81]]\n"
     ]
    }
   ],
   "source": [
    "squared = [[x**2 for x in row] for row in matrix]\n",
    "print(squared)"
   ]
  },
  {
   "cell_type": "markdown",
   "metadata": {},
   "source": [
    "or..."
   ]
  },
  {
   "cell_type": "code",
   "execution_count": 86,
   "metadata": {},
   "outputs": [
    {
     "name": "stdout",
     "output_type": "stream",
     "text": [
      "[[6], [9]]\n"
     ]
    }
   ],
   "source": [
    "filtered = [[x for x in row if x % 3 == 0]\n",
    "           for row in matrix if sum(row) >= 10]\n",
    "print(filtered)"
   ]
  },
  {
   "cell_type": "markdown",
   "metadata": {},
   "source": [
    "**Bottom line**: Avoid using more than 2 expressions in one list comprehension! As soon as it gets more complex than that, write a helper function!"
   ]
  },
  {
   "cell_type": "markdown",
   "metadata": {},
   "source": [
    "### 9. Consider generator expressions for large comprehensions\n",
    "\n",
    "List comprehensions generate a whole new list, which might not be great for memory, especially with large inputs.\n",
    "\n",
    "Example: you want to read a file and return the number of characters on each line. Doing this with a list comprehension would require holding the length of every line of the file in memory. \n",
    "\n",
    "To solve this, we should use **generator expressions**, which a generalization to list comprehensions and generators. Generator expressions don't return the whole output sequence when they're run, but they evaluate to an iterator that yields one item at a time from the expression. \n",
    "\n",
    "You can do it by basically writing list comprehensions inside `()`"
   ]
  },
  {
   "cell_type": "code",
   "execution_count": 94,
   "metadata": {},
   "outputs": [
    {
     "name": "stdout",
     "output_type": "stream",
     "text": [
      "<generator object <genexpr> at 0x10de9b620>\n"
     ]
    }
   ],
   "source": [
    "it = (len(x) for x in open('myfile.txt'))\n",
    "print(it)"
   ]
  },
  {
   "cell_type": "code",
   "execution_count": 95,
   "metadata": {},
   "outputs": [
    {
     "name": "stdout",
     "output_type": "stream",
     "text": [
      "7\n",
      "1\n"
     ]
    }
   ],
   "source": [
    "print(next(it))\n",
    "print(next(it))"
   ]
  },
  {
   "cell_type": "markdown",
   "metadata": {},
   "source": [
    "You can also use the generator object as a input into another generator!!"
   ]
  },
  {
   "cell_type": "code",
   "execution_count": 96,
   "metadata": {},
   "outputs": [
    {
     "name": "stdout",
     "output_type": "stream",
     "text": [
      "(6, 2.449489742783178)\n"
     ]
    }
   ],
   "source": [
    "roots = ((x, x**0.5) for x in it)\n",
    "print(next(roots))"
   ]
  },
  {
   "cell_type": "markdown",
   "metadata": {},
   "source": [
    "\"When you're looking for a way to compose functionality that's operating on a large stream of input, generator expressions are the best tool for the job\"\n",
    "\n",
    "- Make sure to not use them more than once as they disappear after they're used up!"
   ]
  },
  {
   "cell_type": "markdown",
   "metadata": {},
   "source": [
    "### 10. Prefer `enumerate` over `range`\n",
    "\n",
    "Don't use range when the list/iterable you want to iterate over is not a actually a range of integers. For example, instead of doing this:"
   ]
  },
  {
   "cell_type": "code",
   "execution_count": 97,
   "metadata": {},
   "outputs": [
    {
     "name": "stdout",
     "output_type": "stream",
     "text": [
      "1: vanilla\n",
      "2: chocolate\n",
      "3: pecan\n",
      "4: strawberry\n"
     ]
    }
   ],
   "source": [
    "flavor_list = ['vanilla', 'chocolate', 'pecan', 'strawberry']\n",
    "for i in range(len(flavor_list)):\n",
    "    flavor = flavor_list[i]\n",
    "    print('%d: %s' % (i+1, flavor))"
   ]
  },
  {
   "cell_type": "markdown",
   "metadata": {},
   "source": [
    "This looks very clumsy compared to using `enumerate`:"
   ]
  },
  {
   "cell_type": "code",
   "execution_count": 98,
   "metadata": {},
   "outputs": [
    {
     "name": "stdout",
     "output_type": "stream",
     "text": [
      "1: vanilla\n",
      "2: chocolate\n",
      "3: pecan\n",
      "4: strawberry\n"
     ]
    }
   ],
   "source": [
    "for i, flavor in enumerate(flavor_list):\n",
    "    print('%d: %s' % (i+1, flavor))"
   ]
  },
  {
   "cell_type": "code",
   "execution_count": 100,
   "metadata": {},
   "outputs": [
    {
     "name": "stdout",
     "output_type": "stream",
     "text": [
      "1: vanilla\n",
      "2: chocolate\n",
      "3: pecan\n",
      "4: strawberry\n"
     ]
    }
   ],
   "source": [
    "for i, flavor in enumerate(flavor_list, 1): # you can even specify from which number it should start counting\n",
    "    print('%d: %s' % (i, flavor))"
   ]
  },
  {
   "cell_type": "markdown",
   "metadata": {},
   "source": [
    "### 11. User `zip` to process iterators in parallel\n",
    "\n",
    "When you find that you have some lists/iterables that are related and you want to work through them in parallel/together, use `zip`. "
   ]
  },
  {
   "cell_type": "code",
   "execution_count": 112,
   "metadata": {
    "collapsed": true
   },
   "outputs": [],
   "source": [
    "names = ['Cecilia', 'Lise', 'Marie']\n",
    "letters = [len(n) for n in names]\n",
    "max_letters = 0"
   ]
  },
  {
   "cell_type": "markdown",
   "metadata": {},
   "source": [
    "In Python3 ,`zip` wraps two or more iterators with a lazy generator. The `zip` generator yields tuples containing the next value from each iterator."
   ]
  },
  {
   "cell_type": "code",
   "execution_count": 106,
   "metadata": {
    "collapsed": true
   },
   "outputs": [],
   "source": [
    "for name, count in zip(names, letters):\n",
    "    if count > max_letters:\n",
    "        longest_name = name\n",
    "        max_letters = count"
   ]
  },
  {
   "cell_type": "markdown",
   "metadata": {},
   "source": [
    "Problem: the zip generator behaves weirdly if the two input iterators are not of the same length. For example: "
   ]
  },
  {
   "cell_type": "code",
   "execution_count": 113,
   "metadata": {},
   "outputs": [
    {
     "name": "stdout",
     "output_type": "stream",
     "text": [
      "Cecilia\n",
      "Lise\n",
      "Marie\n"
     ]
    }
   ],
   "source": [
    "names.append('Rosalind')\n",
    "for name, count in zip(names, letters):\n",
    "    print(name)"
   ]
  },
  {
   "cell_type": "markdown",
   "metadata": {},
   "source": [
    "It will only yield as many items as in the shorters input. Another option is using `zip_longest` from `itertools`: [zip_longest()](https://docs.python.org/3/library/itertools.html#itertools.zip_longest)"
   ]
  },
  {
   "cell_type": "markdown",
   "metadata": {},
   "source": [
    "### 12. Avoid `else` blocks after `for` and `while` Loops"
   ]
  },
  {
   "cell_type": "code",
   "execution_count": 115,
   "metadata": {},
   "outputs": [
    {
     "name": "stdout",
     "output_type": "stream",
     "text": [
      "Loop 0\n",
      "Loop 1\n",
      "Loop 2\n",
      "Else block!\n"
     ]
    }
   ],
   "source": [
    "for i in range(3):\n",
    "    print('Loop {}'.format(i))\n",
    "else:\n",
    "    print(\"Else block!\")"
   ]
  },
  {
   "cell_type": "markdown",
   "metadata": {},
   "source": [
    "Don't use this because it's counterintuitive. We think the `else` here might mean \"print this block if the for loop doensn't finish\", but it's actually the opposite -- it executes when the for loop finishes running. Also, using a `break` statement in a loop will skip the `else` block."
   ]
  },
  {
   "cell_type": "code",
   "execution_count": 116,
   "metadata": {},
   "outputs": [
    {
     "name": "stdout",
     "output_type": "stream",
     "text": [
      "Loop 0\n",
      "Loop 1\n"
     ]
    }
   ],
   "source": [
    "for i in range(3):\n",
    "    print('Loop {}'.format(i))\n",
    "    if i == 1:\n",
    "        break\n",
    "else:\n",
    "    print('Else block!')"
   ]
  },
  {
   "cell_type": "markdown",
   "metadata": {},
   "source": [
    "Also runs in other weird cases, such as when a While loop is initially false:"
   ]
  },
  {
   "cell_type": "code",
   "execution_count": 119,
   "metadata": {},
   "outputs": [
    {
     "name": "stdout",
     "output_type": "stream",
     "text": [
      "While Else block!\n"
     ]
    }
   ],
   "source": [
    "while False:\n",
    "    print(\"Never runs!\")\n",
    "else:\n",
    "    print(\"While Else block!\")"
   ]
  },
  {
   "cell_type": "markdown",
   "metadata": {},
   "source": [
    "### 13. Take advantage of the full `try/except/else/finally` sequence\n",
    "\n",
    "We use `finally` when we want exceptions to propagate up (i.e. appear in the main code), but also want to quickly do some last action before going to the error. A typical example is closing a connection with an `open` file:"
   ]
  },
  {
   "cell_type": "code",
   "execution_count": 127,
   "metadata": {
    "collapsed": true
   },
   "outputs": [],
   "source": [
    "handle = open('myfile.txt')\n",
    "try:\n",
    "    data = handle.read() # May raise UnicodeDecodeError\n",
    "finally:\n",
    "    handle.close() # this will always run, even if an error is raised"
   ]
  },
  {
   "cell_type": "markdown",
   "metadata": {},
   "source": [
    "`else` blocks are to be used to separate some final action, and they help minimize the amount of code in `try` blocks and to visually distinguish the success case from the `try/except` blocks. They can also just perform \"additional actions\" before executing some final cleanup code (in the `finally` section). For example:"
   ]
  },
  {
   "cell_type": "code",
   "execution_count": 132,
   "metadata": {
    "collapsed": true
   },
   "outputs": [],
   "source": [
    "import json\n",
    "def load_json_key(data, key):\n",
    "    try:\n",
    "        result_dict = json.loads(data) # may raise ValueError\n",
    "    except ValueError as e:\n",
    "        raise KeyError from e\n",
    "    else:\n",
    "        return result_dict[key]  # may raise KeyError, which will propagate up, unlike the one above!\n",
    "    "
   ]
  },
  {
   "cell_type": "code",
   "execution_count": 131,
   "metadata": {},
   "outputs": [
    {
     "ename": "NameError",
     "evalue": "name 'JSONDecodeError' is not defined",
     "output_type": "error",
     "traceback": [
      "\u001b[0;31m---------------------------------------------------------------------------\u001b[0m",
      "\u001b[0;31mJSONDecodeError\u001b[0m                           Traceback (most recent call last)",
      "\u001b[0;32m<ipython-input-130-9819949c6975>\u001b[0m in \u001b[0;36mload_json_key\u001b[0;34m(data, key)\u001b[0m\n\u001b[1;32m      3\u001b[0m     \u001b[0;32mtry\u001b[0m\u001b[0;34m:\u001b[0m\u001b[0;34m\u001b[0m\u001b[0m\n\u001b[0;32m----> 4\u001b[0;31m         \u001b[0mresult_dict\u001b[0m \u001b[0;34m=\u001b[0m \u001b[0mjson\u001b[0m\u001b[0;34m.\u001b[0m\u001b[0mloads\u001b[0m\u001b[0;34m(\u001b[0m\u001b[0mdata\u001b[0m\u001b[0;34m)\u001b[0m \u001b[0;31m# may raise ValueError\u001b[0m\u001b[0;34m\u001b[0m\u001b[0m\n\u001b[0m\u001b[1;32m      5\u001b[0m     \u001b[0;32mexcept\u001b[0m \u001b[0mJSONDecodeError\u001b[0m \u001b[0;32mas\u001b[0m \u001b[0me\u001b[0m\u001b[0;34m:\u001b[0m\u001b[0;34m\u001b[0m\u001b[0m\n",
      "\u001b[0;32m~/anaconda3/lib/python3.6/json/__init__.py\u001b[0m in \u001b[0;36mloads\u001b[0;34m(s, encoding, cls, object_hook, parse_float, parse_int, parse_constant, object_pairs_hook, **kw)\u001b[0m\n\u001b[1;32m    353\u001b[0m             parse_constant is None and object_pairs_hook is None and not kw):\n\u001b[0;32m--> 354\u001b[0;31m         \u001b[0;32mreturn\u001b[0m \u001b[0m_default_decoder\u001b[0m\u001b[0;34m.\u001b[0m\u001b[0mdecode\u001b[0m\u001b[0;34m(\u001b[0m\u001b[0ms\u001b[0m\u001b[0;34m)\u001b[0m\u001b[0;34m\u001b[0m\u001b[0m\n\u001b[0m\u001b[1;32m    355\u001b[0m     \u001b[0;32mif\u001b[0m \u001b[0mcls\u001b[0m \u001b[0;32mis\u001b[0m \u001b[0;32mNone\u001b[0m\u001b[0;34m:\u001b[0m\u001b[0;34m\u001b[0m\u001b[0m\n",
      "\u001b[0;32m~/anaconda3/lib/python3.6/json/decoder.py\u001b[0m in \u001b[0;36mdecode\u001b[0;34m(self, s, _w)\u001b[0m\n\u001b[1;32m    341\u001b[0m         \u001b[0;32mif\u001b[0m \u001b[0mend\u001b[0m \u001b[0;34m!=\u001b[0m \u001b[0mlen\u001b[0m\u001b[0;34m(\u001b[0m\u001b[0ms\u001b[0m\u001b[0;34m)\u001b[0m\u001b[0;34m:\u001b[0m\u001b[0;34m\u001b[0m\u001b[0m\n\u001b[0;32m--> 342\u001b[0;31m             \u001b[0;32mraise\u001b[0m \u001b[0mJSONDecodeError\u001b[0m\u001b[0;34m(\u001b[0m\u001b[0;34m\"Extra data\"\u001b[0m\u001b[0;34m,\u001b[0m \u001b[0ms\u001b[0m\u001b[0;34m,\u001b[0m \u001b[0mend\u001b[0m\u001b[0;34m)\u001b[0m\u001b[0;34m\u001b[0m\u001b[0m\n\u001b[0m\u001b[1;32m    343\u001b[0m         \u001b[0;32mreturn\u001b[0m \u001b[0mobj\u001b[0m\u001b[0;34m\u001b[0m\u001b[0m\n",
      "\u001b[0;31mJSONDecodeError\u001b[0m: Extra data: line 1 column 4 (char 3)",
      "\nDuring handling of the above exception, another exception occurred:\n",
      "\u001b[0;31mNameError\u001b[0m                                 Traceback (most recent call last)",
      "\u001b[0;32m<ipython-input-131-3e156b6b01be>\u001b[0m in \u001b[0;36m<module>\u001b[0;34m\u001b[0m\n\u001b[0;32m----> 1\u001b[0;31m \u001b[0mload_json_key\u001b[0m\u001b[0;34m(\u001b[0m\u001b[0mdata\u001b[0m\u001b[0;34m,\u001b[0m \u001b[0;34m'alpha'\u001b[0m\u001b[0;34m)\u001b[0m\u001b[0;34m\u001b[0m\u001b[0m\n\u001b[0m",
      "\u001b[0;32m<ipython-input-130-9819949c6975>\u001b[0m in \u001b[0;36mload_json_key\u001b[0;34m(data, key)\u001b[0m\n\u001b[1;32m      3\u001b[0m     \u001b[0;32mtry\u001b[0m\u001b[0;34m:\u001b[0m\u001b[0;34m\u001b[0m\u001b[0m\n\u001b[1;32m      4\u001b[0m         \u001b[0mresult_dict\u001b[0m \u001b[0;34m=\u001b[0m \u001b[0mjson\u001b[0m\u001b[0;34m.\u001b[0m\u001b[0mloads\u001b[0m\u001b[0;34m(\u001b[0m\u001b[0mdata\u001b[0m\u001b[0;34m)\u001b[0m \u001b[0;31m# may raise ValueError\u001b[0m\u001b[0;34m\u001b[0m\u001b[0m\n\u001b[0;32m----> 5\u001b[0;31m     \u001b[0;32mexcept\u001b[0m \u001b[0mJSONDecodeError\u001b[0m \u001b[0;32mas\u001b[0m \u001b[0me\u001b[0m\u001b[0;34m:\u001b[0m\u001b[0;34m\u001b[0m\u001b[0m\n\u001b[0m\u001b[1;32m      6\u001b[0m         \u001b[0;32mraise\u001b[0m \u001b[0mKeyError\u001b[0m \u001b[0;32mfrom\u001b[0m \u001b[0me\u001b[0m\u001b[0;34m\u001b[0m\u001b[0m\n\u001b[1;32m      7\u001b[0m     \u001b[0;32melse\u001b[0m\u001b[0;34m:\u001b[0m\u001b[0;34m\u001b[0m\u001b[0m\n",
      "\u001b[0;31mNameError\u001b[0m: name 'JSONDecodeError' is not defined"
     ]
    }
   ],
   "source": [
    "load_json_key(data, 'alpha')"
   ]
  },
  {
   "cell_type": "markdown",
   "metadata": {},
   "source": [
    "This overall makes the exception propagation behavior clear.\n",
    "\n",
    "Example of where you might use all of them at once:"
   ]
  },
  {
   "cell_type": "code",
   "execution_count": 134,
   "metadata": {
    "collapsed": true
   },
   "outputs": [],
   "source": [
    "UNDEFINED = object()\n",
    "\n",
    "def divide_json(path):\n",
    "    handle = open(path, 'r+') # may raise IOError\n",
    "    try:\n",
    "        data = handle.read()  # may raise UnicodeDecodeError\n",
    "        op = json.loads(data) # may raise ValueError\n",
    "        value = (\n",
    "            op['numerator']/\n",
    "            op['denominator'])# may raise ZeroDivisionError\n",
    "    except ZeroDivisionError as e:\n",
    "        return UNDEFINED\n",
    "    else:\n",
    "        op['result'] = value\n",
    "        result = json.dumps(op)\n",
    "        handle.seek(0)\n",
    "        handle.write(results) # this may raise IOError\n",
    "        return value\n",
    "    finally:\n",
    "        handle.close()        # always runs"
   ]
  },
  {
   "cell_type": "markdown",
   "metadata": {},
   "source": [
    "## 2. Functions\n",
    "\n",
    "### 14. Prefer Exceptions to returning `None`\n",
    "- Functions that return `None` instead of raising an error are error-prone, as multiple things can usually make the function return `None`.\n",
    "- Raise exceptions/errors to indicate special situations instead of returning `None`. Also document stuff!"
   ]
  },
  {
   "cell_type": "code",
   "execution_count": 1,
   "metadata": {},
   "outputs": [],
   "source": [
    "def divide(a, b,):\n",
    "    try:\n",
    "        return a / b\n",
    "    except ZeroDivisionError as e:\n",
    "        raise ValueError('Invalid inputs') from e"
   ]
  },
  {
   "cell_type": "code",
   "execution_count": 2,
   "metadata": {},
   "outputs": [
    {
     "name": "stdout",
     "output_type": "stream",
     "text": [
      "Invalid inputs\n"
     ]
    }
   ],
   "source": [
    "x, y = 5, 0\n",
    "try:\n",
    "    result = divide(x,y)\n",
    "except:\n",
    "    print(\"Invalid inputs\")\n",
    "else:\n",
    "    print(\"Result is %.1f\" % result)"
   ]
  },
  {
   "cell_type": "markdown",
   "metadata": {},
   "source": [
    "### 15. Know how closures interact with variable scope\n",
    "\n",
    "This is all about what happens if you have a `def` inside another function definition. For example: "
   ]
  },
  {
   "cell_type": "code",
   "execution_count": 6,
   "metadata": {
    "collapsed": true
   },
   "outputs": [],
   "source": [
    "def sort_priority(values, group):\n",
    "    found = False          # Scope: 'sort_priority'\n",
    "    def helper(x):\n",
    "        if x in group:\n",
    "            found = True   # Scope: 'helper' -- BAD!\n",
    "            return (0, x)\n",
    "        return (1,x)\n",
    "    values.sort(key = helper)\n",
    "    return found"
   ]
  },
  {
   "cell_type": "code",
   "execution_count": 8,
   "metadata": {},
   "outputs": [
    {
     "name": "stdout",
     "output_type": "stream",
     "text": [
      "Found: False\n",
      "[2, 3, 5, 7, 1, 4, 6, 8]\n"
     ]
    }
   ],
   "source": [
    "numbers = [8,3,1,2,5,4,7,6]\n",
    "group = {2,3,5,7}\n",
    "found = sort_priority(numbers, group)\n",
    "print(\"Found:\", found) # this makes no sense, because we DID find some of the numbers \n",
    "print(numbers)"
   ]
  },
  {
   "cell_type": "markdown",
   "metadata": {},
   "source": [
    "The sorted results are correct, bu the found result is wrong. \n",
    "\n",
    "When you reference a variable in an expression, the Python interpreter looks for it in this order:\n",
    "1. Current function's scope\n",
    "2. Any enclosing scope (like other function enclosing the one we're in)\n",
    "3. Scope of the module (i.e. the .py file, or the _global scope_)\n",
    "4. The built-in scope, i.e. predefined Python variables (like `list`)\n",
    "\n",
    "\n",
    "This problem is also called *The scoping bug*\n",
    "\n",
    "**Fix**\n",
    "You can use the `nonlocal` statement to indicate that the scope of a variable should be extended to the enclosing function (not to the global scope of the module though!)"
   ]
  },
  {
   "cell_type": "code",
   "execution_count": 11,
   "metadata": {
    "collapsed": true
   },
   "outputs": [],
   "source": [
    "def sort_priority2(numbers, group):\n",
    "    found = False\n",
    "    def helper(x):\n",
    "        nonlocal found   #This is where you declare this variable as non-local\n",
    "        if x in group:\n",
    "            found = True\n",
    "            return(0,x)\n",
    "        return(1,x)\n",
    "    numbers.sort(key = helper)\n",
    "    return found"
   ]
  },
  {
   "cell_type": "code",
   "execution_count": 13,
   "metadata": {},
   "outputs": [
    {
     "name": "stdout",
     "output_type": "stream",
     "text": [
      "Found: True\n",
      "[2, 3, 5, 7, 1, 4, 6, 8]\n"
     ]
    }
   ],
   "source": [
    "found = sort_priority2(numbers, group)\n",
    "print(\"Found:\", found) # now this works!\n",
    "print(numbers)"
   ]
  },
  {
   "cell_type": "markdown",
   "metadata": {},
   "source": [
    "A much better way to do this however (beyond very simple helper functions) would be with a class:"
   ]
  },
  {
   "cell_type": "code",
   "execution_count": 14,
   "metadata": {
    "collapsed": true
   },
   "outputs": [],
   "source": [
    "class Sorter(object):\n",
    "    def __init__(self, group):\n",
    "        self.group = group\n",
    "        self.found = False\n",
    "        \n",
    "    def __call__(self, x):\n",
    "        if x in self.group:\n",
    "            self.found = True\n",
    "            return (0,x)\n",
    "        return (1,x)"
   ]
  },
  {
   "cell_type": "code",
   "execution_count": 18,
   "metadata": {
    "collapsed": true
   },
   "outputs": [],
   "source": [
    "sorter = Sorter(group)\n",
    "numbers.sort(key = sorter)\n",
    "assert sorter.found is True"
   ]
  },
  {
   "cell_type": "markdown",
   "metadata": {},
   "source": [
    "#### 16. Consider generators instead of returning lists\n",
    "\n",
    "Generators are functions that use `yield` expressions. When called, generator functions don't actually run but immediately return an iterator (so you can do next, next, etc.)\n",
    "\n",
    "Two problems: \n",
    "- Code is clunky and dense\n",
    "- You have to hold full list in memory\n",
    "\n",
    "For example, **instead of this:**"
   ]
  },
  {
   "cell_type": "code",
   "execution_count": 19,
   "metadata": {
    "collapsed": true
   },
   "outputs": [],
   "source": [
    "def index_words(text):\n",
    "    result = []\n",
    "    if text:\n",
    "        result.append(0)\n",
    "    for index, letter in enumerate(text):\n",
    "        if letter == ' ':\n",
    "            result.append(index +1)\n",
    "    return result"
   ]
  },
  {
   "cell_type": "code",
   "execution_count": null,
   "metadata": {
    "collapsed": true
   },
   "outputs": [],
   "source": [
    "address = 'Four score and seven years ago...'"
   ]
  },
  {
   "cell_type": "code",
   "execution_count": 31,
   "metadata": {},
   "outputs": [
    {
     "name": "stdout",
     "output_type": "stream",
     "text": [
      "2.92 µs ± 78 ns per loop (mean ± std. dev. of 7 runs, 100000 loops each)\n"
     ]
    }
   ],
   "source": [
    "%%timeit\n",
    "result = index_words(address)"
   ]
  },
  {
   "cell_type": "code",
   "execution_count": 32,
   "metadata": {},
   "outputs": [
    {
     "name": "stdout",
     "output_type": "stream",
     "text": [
      "[0, 5, 11, 15, 21, 27]\n"
     ]
    }
   ],
   "source": [
    "print(result)"
   ]
  },
  {
   "cell_type": "markdown",
   "metadata": {},
   "source": [
    "A better way to do this is to write a generator function, and then wrap it into a list comprehension:"
   ]
  },
  {
   "cell_type": "code",
   "execution_count": 24,
   "metadata": {
    "collapsed": true
   },
   "outputs": [],
   "source": [
    "def index_words_iter(text):\n",
    "    if text:\n",
    "        yield 0\n",
    "    for index, letter in enumerate(text):\n",
    "        if letter == ' ':\n",
    "            yield index +1     # do this instead of appending! Notice there are no appends here"
   ]
  },
  {
   "cell_type": "code",
   "execution_count": 30,
   "metadata": {
    "scrolled": false
   },
   "outputs": [
    {
     "name": "stdout",
     "output_type": "stream",
     "text": [
      "3.07 µs ± 257 ns per loop (mean ± std. dev. of 7 runs, 100000 loops each)\n"
     ]
    }
   ],
   "source": [
    "%%timeit\n",
    "result = list(index_words_iter(address))"
   ]
  },
  {
   "cell_type": "code",
   "execution_count": 33,
   "metadata": {},
   "outputs": [
    {
     "name": "stdout",
     "output_type": "stream",
     "text": [
      "[0, 5, 11, 15, 21, 27]\n"
     ]
    }
   ],
   "source": [
    "print(result)"
   ]
  },
  {
   "cell_type": "markdown",
   "metadata": {},
   "source": [
    "Holding all results in the list before being returned. Example of function that iterates and yields one line at a time from a text file:"
   ]
  },
  {
   "cell_type": "code",
   "execution_count": 40,
   "metadata": {
    "collapsed": true
   },
   "outputs": [],
   "source": [
    "def index_file(handle):\n",
    "    offset = 0\n",
    "    for line in handle:\n",
    "        if line:\n",
    "            yield offset\n",
    "        for letter in line:\n",
    "            offset += 1\n",
    "            if letter == ' ':\n",
    "                yield offset"
   ]
  },
  {
   "cell_type": "code",
   "execution_count": 43,
   "metadata": {},
   "outputs": [
    {
     "name": "stdout",
     "output_type": "stream",
     "text": [
      "[0, 6, 14, 19, 24, 29, 34, 42, 48, 52]\n"
     ]
    }
   ],
   "source": [
    "with open('address.txt', 'r') as f:\n",
    "    it = index_file(f)\n",
    "    results = islice(it, 0, 10)\n",
    "    print(list(results))"
   ]
  },
  {
   "cell_type": "markdown",
   "metadata": {},
   "source": [
    "The only caveats is that these generators cannot be reused!"
   ]
  },
  {
   "cell_type": "markdown",
   "metadata": {},
   "source": [
    "#### 17. Be defensive when iterating over arguments\n",
    "\n"
   ]
  }
 ],
 "metadata": {
  "kernelspec": {
   "display_name": "Python 3",
   "language": "python",
   "name": "python3"
  },
  "language_info": {
   "codemirror_mode": {
    "name": "ipython",
    "version": 3
   },
   "file_extension": ".py",
   "mimetype": "text/x-python",
   "name": "python",
   "nbconvert_exporter": "python",
   "pygments_lexer": "ipython3",
   "version": "3.6.6"
  }
 },
 "nbformat": 4,
 "nbformat_minor": 2
}
