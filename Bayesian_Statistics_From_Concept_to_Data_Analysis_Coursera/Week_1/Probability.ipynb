{
 "cells": [
  {
   "cell_type": "markdown",
   "metadata": {},
   "source": [
    "## Introduction\n",
    "\n",
    "Read [Background for lesson 1](https://d3c33hcgiwev3.cloudfront.net/_2ffa04a4be97e282ca9e65d96897a77c_L1_background.pdf?Expires=1561161600&Signature=IRkxWL0S1Om-2P1bO9UbeZSufArp7D1KCKEfFObjCau~KpKHW-9EIrc17cmWbzGUNTCxAAo0Y0KWMtqXgX-oDyzAnSePjjC1mHJLsigduyhFItEbvIFCOWLnv2af5fKHCASsYlxgOh-SfJ6T-Pnk4FHq1pfhpMhXnTot5xKwpNg_&Key-Pair-Id=APKAJLTNE6QMUY6HBC5A)\n",
    "\n",
    "**Probabilities & Events**\n",
    "- Probabilities are defined for events. An event is some outcome that we could potentially or hypothetically observe or experience, such as the result of rolling a fair six-sided die\n",
    "- Probabilities must sum up to 1\n",
    "- The complement of an event, Ac, means that the event does not happen\n",
    "- P(A ∪ B) = P(A) + P(B) − P(A ∩ B)\n",
    "\n",
    "**Odds**\n",
    "- The odds for event A, denoted O(A) is defined as O(A) = P(A)/P(Ac) = P(A)/(1 − P(A)).\n",
    "- This can also be expressed as 1:5 (or 5:1 “odds against”). Thus, an event with probability 3/10 has 3:7 odds (7:3 odds against) and an event with probability 4/5 has 4:1 odds.\n",
    "\n",
    "**Expected values**\n",
    "- The expected value of a random variable X is a weighted average of values X can take, with weights given by the probabilities of those values."
   ]
  },
  {
   "cell_type": "markdown",
   "metadata": {},
   "source": [
    "## Classical vs Frequentist probability\n",
    "\n",
    "> A way to model uncertainty is through probabilities\n",
    "\n",
    "![img](img/probabilities.png)\n",
    "\n",
    "There are three frameworks for understanding probabilities: \n",
    "1. Classical: outcomes that are equally likely have equal probabilities (so in the case of a die, it's just 1/6)\n",
    "2. Frequentist: relative frequency if the action is repeated an unlimited number of times\n",
    "3. Bayesian"
   ]
  },
  {
   "cell_type": "markdown",
   "metadata": {},
   "source": [
    "## Bayesian probability and coherence"
   ]
  },
  {
   "cell_type": "markdown",
   "metadata": {},
   "source": [
    "Another way to define probability is through a Bayesian perspective, which is in fact a _personal perspective_: i.e. it takes into account what you know about the particular problem. \n",
    "\n",
    "_Is this a fair die?_\n",
    "If you have different information from others, it will lead to different results but it might be alright. \n",
    "\n",
    "- We can quantify probabilities by putting a bet on it. \n",
    "    - e.g. if it rains tomorrow, you win 1 dollar, if it doesn't rain you lose 4 dollars. \n",
    "    - If this is a fair bet, you should be willing to take it in either direction, which means you could also take that if it rains tomorrow, you lose 1 dollar and if it doesn't rain tomorrow, you win 4 dollars. \n",
    "    \n",
    "> Odds: 1:4 ==>\n",
    "\n",
    "> P(rain) = 1/(1+4) = 1/5\n",
    "\n",
    "\n",
    "\n",
    "Expected return: 4(1/5) - 1(4/5) = 0\n",
    "    \n",
    "in the other case: 1(4/5) - 4(1/5) = 0\n",
    "    \n",
    "These two match"
   ]
  },
  {
   "cell_type": "markdown",
   "metadata": {},
   "source": [
    "## Coherence\n",
    "\n",
    "Probabilities have to follow all the rules about probability, and thus be **coherent**. I.e. you have to "
   ]
  },
  {
   "cell_type": "code",
   "execution_count": null,
   "metadata": {},
   "outputs": [],
   "source": []
  }
 ],
 "metadata": {
  "kernelspec": {
   "display_name": "Python 3",
   "language": "python",
   "name": "python3"
  },
  "language_info": {
   "codemirror_mode": {
    "name": "ipython",
    "version": 3
   },
   "file_extension": ".py",
   "mimetype": "text/x-python",
   "name": "python",
   "nbconvert_exporter": "python",
   "pygments_lexer": "ipython3",
   "version": "3.6.7"
  }
 },
 "nbformat": 4,
 "nbformat_minor": 2
}
