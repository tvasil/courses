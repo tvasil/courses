{
 "cells": [
  {
   "cell_type": "markdown",
   "metadata": {},
   "source": [
    "## Conditional probability and Bayes' Theorem"
   ]
  },
  {
   "cell_type": "markdown",
   "metadata": {},
   "source": [
    "What is P(A|B) = P(A ∩ B) / P(B)? i.e. the probability of A, given that we know B happened. For example: \n",
    "\n",
    "![img](img/cond_prob_table.png)\n",
    "\n",
    "So we can ask questions about the segment of the population. \n",
    "\n",
    "E.g.\n",
    "- P(F) = 9/30 = 3/10\n",
    "- P(CS) = 12/30 = 2/5\n",
    "- P(F ∩ CS) = 4/30 = 2/15\n",
    "\n",
    "Now we can also talk about the conditional probability, such as \n",
    "\n",
    "P(F|CS) = P(F ∩ CS)/P(CS) = 2/15 / 2/5 = 1/3\n",
    "\n",
    "\n",
    "### Independence\n",
    "\n",
    "P(A|B) = P(A) (it doesn't matter whether B occurred)\n",
    "\n",
    "then P(A ∩ B) = P(A)* P(B)\n",
    "\n",
    "-------\n",
    "\n",
    "Here we can see that the P(F | CS) ≠  P(F), they are not equal, so we know that being female and being a computer science major are not independent.  "
   ]
  },
  {
   "cell_type": "markdown",
   "metadata": {},
   "source": [
    "## Bayes' Theorem itself"
   ]
  },
  {
   "cell_type": "code",
   "execution_count": 20,
   "metadata": {},
   "outputs": [
    {
     "data": {
      "text/latex": [
       "\n",
       "$$P(A|B) = (P(B|A)*P(A)) / (P(B|A) + P(B|A^c)P(A^c)  $$\n",
       "                            \n",
       "$$ = P(A ∩ B) / P(B) $$\n"
      ],
      "text/plain": [
       "<IPython.core.display.Latex object>"
      ]
     },
     "metadata": {},
     "output_type": "display_data"
    }
   ],
   "source": [
    "%%latex\n",
    "\n",
    "$$P(A|B) = (P(B|A)*P(A)) / (P(B|A) + P(B|A^c)P(A^c)  $$\n",
    "                            \n",
    "$$ = P(A ∩ B) / P(B) $$"
   ]
  },
  {
   "cell_type": "markdown",
   "metadata": {},
   "source": [
    "We can use Bayes' theorem to update our belief given our prior knowledge of a problem."
   ]
  },
  {
   "cell_type": "code",
   "execution_count": null,
   "metadata": {},
   "outputs": [],
   "source": []
  }
 ],
 "metadata": {
  "kernelspec": {
   "display_name": "Python 3",
   "language": "python",
   "name": "python3"
  },
  "language_info": {
   "codemirror_mode": {
    "name": "ipython",
    "version": 3
   },
   "file_extension": ".py",
   "mimetype": "text/x-python",
   "name": "python",
   "nbconvert_exporter": "python",
   "pygments_lexer": "ipython3",
   "version": "3.6.7"
  }
 },
 "nbformat": 4,
 "nbformat_minor": 2
}
